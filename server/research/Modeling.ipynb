{
 "cells": [
  {
   "cell_type": "code",
   "execution_count": 44,
   "metadata": {},
   "outputs": [],
   "source": [
    "import pandas as pd\n",
    "import numpy as np\n",
    "from sklearn.preprocessing import StandardScaler\n",
    "from sklearn.pipeline import Pipeline\n",
    "from sklearn.preprocessing import FunctionTransformer\n",
    "from sklearn.feature_extraction.text import CountVectorizer\n",
    "\n",
    "from sklearn.model_selection import train_test_split\n",
    "from sklearn.metrics import accuracy_score, precision_score, recall_score, classification_report\n",
    "from sklearn.metrics import confusion_matrix, ConfusionMatrixDisplay\n",
    "\n",
    "import nltk\n",
    "from nltk.tokenize import word_tokenize # nltk's gold standard word tokenizer\n",
    "from nltk.corpus import stopwords #used for removing tokens in english stopword list\n",
    "from nltk.stem import SnowballStemmer # stemming for text normalization\n",
    "\n",
    "from sklearn.naive_bayes import MultinomialNB, ComplementNB\n",
    "from sklearn.ensemble import RandomForestClassifier\n",
    "\n",
    "# import pickle\n",
    "import dill as pickle\n",
    "import matplotlib.pyplot as plt"
   ]
  },
  {
   "cell_type": "code",
   "execution_count": 45,
   "metadata": {},
   "outputs": [
    {
     "name": "stderr",
     "output_type": "stream",
     "text": [
      "[nltk_data] Downloading package stopwords to\n",
      "[nltk_data]     /Users/asudhakar/nltk_data...\n",
      "[nltk_data]   Package stopwords is already up-to-date!\n",
      "[nltk_data] Downloading package punkt to /Users/asudhakar/nltk_data...\n",
      "[nltk_data]   Package punkt is already up-to-date!\n"
     ]
    },
    {
     "data": {
      "text/plain": [
       "True"
      ]
     },
     "execution_count": 45,
     "metadata": {},
     "output_type": "execute_result"
    }
   ],
   "source": [
    "nltk.download(\"stopwords\")\n",
    "nltk.download(\"punkt\")"
   ]
  },
  {
   "cell_type": "markdown",
   "metadata": {},
   "source": [
    "### Loading data in:"
   ]
  },
  {
   "cell_type": "code",
   "execution_count": 46,
   "metadata": {},
   "outputs": [
    {
     "data": {
      "text/html": [
       "<div>\n",
       "<style scoped>\n",
       "    .dataframe tbody tr th:only-of-type {\n",
       "        vertical-align: middle;\n",
       "    }\n",
       "\n",
       "    .dataframe tbody tr th {\n",
       "        vertical-align: top;\n",
       "    }\n",
       "\n",
       "    .dataframe thead th {\n",
       "        text-align: right;\n",
       "    }\n",
       "</style>\n",
       "<table border=\"1\" class=\"dataframe\">\n",
       "  <thead>\n",
       "    <tr style=\"text-align: right;\">\n",
       "      <th></th>\n",
       "      <th>target</th>\n",
       "      <th>text</th>\n",
       "    </tr>\n",
       "  </thead>\n",
       "  <tbody>\n",
       "    <tr>\n",
       "      <th>0</th>\n",
       "      <td>ham</td>\n",
       "      <td>Go until jurong point, crazy.. Available only ...</td>\n",
       "    </tr>\n",
       "    <tr>\n",
       "      <th>1</th>\n",
       "      <td>ham</td>\n",
       "      <td>Ok lar... Joking wif u oni...</td>\n",
       "    </tr>\n",
       "    <tr>\n",
       "      <th>2</th>\n",
       "      <td>spam</td>\n",
       "      <td>Free entry in 2 a wkly comp to win FA Cup fina...</td>\n",
       "    </tr>\n",
       "    <tr>\n",
       "      <th>3</th>\n",
       "      <td>ham</td>\n",
       "      <td>U dun say so early hor... U c already then say...</td>\n",
       "    </tr>\n",
       "    <tr>\n",
       "      <th>4</th>\n",
       "      <td>ham</td>\n",
       "      <td>Nah I don't think he goes to usf, he lives aro...</td>\n",
       "    </tr>\n",
       "  </tbody>\n",
       "</table>\n",
       "</div>"
      ],
      "text/plain": [
       "  target                                               text\n",
       "0    ham  Go until jurong point, crazy.. Available only ...\n",
       "1    ham                      Ok lar... Joking wif u oni...\n",
       "2   spam  Free entry in 2 a wkly comp to win FA Cup fina...\n",
       "3    ham  U dun say so early hor... U c already then say...\n",
       "4    ham  Nah I don't think he goes to usf, he lives aro..."
      ]
     },
     "execution_count": 46,
     "metadata": {},
     "output_type": "execute_result"
    }
   ],
   "source": [
    "sms_df = pd.read_csv('../data/spam.csv', encoding='latin')\n",
    "sms_df = sms_df[['v1', 'v2']].rename(columns={'v1': 'target', 'v2': 'text'})\n",
    "sms_df.head()"
   ]
  },
  {
   "cell_type": "markdown",
   "metadata": {},
   "source": [
    "### Input Preprocessing"
   ]
  },
  {
   "cell_type": "markdown",
   "metadata": {},
   "source": [
    "We are going to be writing a simple text input preprocessing pipeline."
   ]
  },
  {
   "cell_type": "code",
   "execution_count": 47,
   "metadata": {},
   "outputs": [],
   "source": [
    "def lowering_func(x):\n",
    "    return x.str.lower()\n",
    "\n",
    "def tokenizer(x, tokenizer):\n",
    "    return x.apply(tokenizer)\n",
    "\n",
    "def text_normalizer(x, stopword_list):\n",
    "\n",
    "    # use Snowballstemmer\n",
    "    stemmer = SnowballStemmer('english')\n",
    "\n",
    "    # apply stemmer and filter out stop words and keep only alphabetic characters\n",
    "    # this removes numbers and punctuation\n",
    "    # removes words that are extremely common in the english language and are not semantically\n",
    "    sw_removed = x.apply(lambda txt: [stemmer.stem(elem) for elem in txt if ( (elem not in stopword_list) & elem.isalpha() )  ] )\n",
    "\n",
    "    return sw_removed\n",
    "\n",
    "def rejoiner(x):\n",
    "    rejoined = x.str.join(\" \")\n",
    "    return rejoined\n",
    "\n",
    "lower_text = FunctionTransformer(lowering_func)\n",
    "apply_tokenizer = FunctionTransformer(tokenizer, kw_args={'tokenizer': word_tokenize} )\n",
    "normalizer = FunctionTransformer(text_normalizer, kw_args={'stopword_list': stopwords.words('english') } )\n",
    "stringjoin =  FunctionTransformer(rejoiner)\n",
    "countvec = CountVectorizer(min_df = 0.01, max_df = 0.95)"
   ]
  },
  {
   "cell_type": "markdown",
   "metadata": {},
   "source": [
    "### Construct preprocessing pipeline\n",
    "- Pipeline composes sequence of transformations and vectorization into a single object\n",
    "- A lot of advantages: \n",
    "    - packaging preprocessing in single entity\n",
    "    - less code\n",
    "    - use Scikit-learn's functionality: rapidly try out different options of FunctionTransformers in Pipeline and parameters of vectorizer during model tuning.\n",
    "    - swap in and out components\n",
    "\n",
    "\n",
    "**Modularity and Extensibility**"
   ]
  },
  {
   "cell_type": "code",
   "execution_count": 48,
   "metadata": {},
   "outputs": [],
   "source": [
    "nlp_preprocess_pipe = Pipeline([('lower', lower_text), ('tokenizer', apply_tokenizer), ('textnorm', normalizer), ('join', stringjoin), ('vec', countvec) ])"
   ]
  },
  {
   "cell_type": "code",
   "execution_count": 49,
   "metadata": {},
   "outputs": [],
   "source": [
    "X = sms_df['text']\n",
    "y = sms_df['target']"
   ]
  },
  {
   "cell_type": "code",
   "execution_count": 50,
   "metadata": {},
   "outputs": [],
   "source": [
    "X_train,X_test,y_train,y_test = train_test_split(X,y, test_size=0.3)"
   ]
  },
  {
   "cell_type": "code",
   "execution_count": 51,
   "metadata": {},
   "outputs": [
    {
     "data": {
      "text/plain": [
       "<3900x147 sparse matrix of type '<class 'numpy.int64'>'\n",
       "\twith 12111 stored elements in Compressed Sparse Row format>"
      ]
     },
     "execution_count": 51,
     "metadata": {},
     "output_type": "execute_result"
    }
   ],
   "source": [
    "nlp_preprocess_pipe.fit_transform(X_train)"
   ]
  },
  {
   "cell_type": "markdown",
   "metadata": {},
   "source": [
    "Save your preprocessor separately from the model:\n",
    "- use pickle to save representation of preprocessor (trained on your dataset)\n",
    "- preprocessor can be reused to transform new data (under assumption it follows distribution of training data)\n"
   ]
  },
  {
   "cell_type": "markdown",
   "metadata": {},
   "source": [
    "## Modeling"
   ]
  },
  {
   "cell_type": "markdown",
   "metadata": {},
   "source": [
    "In the pipeline framework: \n",
    "- adding a final estimator step after preprocessing chain -- this will be our classifier\n",
    "- data transformation + predictive modeling in one combined estimator"
   ]
  },
  {
   "cell_type": "code",
   "execution_count": 52,
   "metadata": {},
   "outputs": [],
   "source": [
    "modeling_pipe = Pipeline([('preprocess', nlp_preprocess_pipe ), ('model', RandomForestClassifier())])"
   ]
  },
  {
   "cell_type": "markdown",
   "metadata": {},
   "source": [
    "Fit entire pipeline on training data:"
   ]
  },
  {
   "cell_type": "code",
   "execution_count": 53,
   "metadata": {},
   "outputs": [
    {
     "data": {
      "text/html": [
       "<style>#sk-container-id-3 {color: black;}#sk-container-id-3 pre{padding: 0;}#sk-container-id-3 div.sk-toggleable {background-color: white;}#sk-container-id-3 label.sk-toggleable__label {cursor: pointer;display: block;width: 100%;margin-bottom: 0;padding: 0.3em;box-sizing: border-box;text-align: center;}#sk-container-id-3 label.sk-toggleable__label-arrow:before {content: \"▸\";float: left;margin-right: 0.25em;color: #696969;}#sk-container-id-3 label.sk-toggleable__label-arrow:hover:before {color: black;}#sk-container-id-3 div.sk-estimator:hover label.sk-toggleable__label-arrow:before {color: black;}#sk-container-id-3 div.sk-toggleable__content {max-height: 0;max-width: 0;overflow: hidden;text-align: left;background-color: #f0f8ff;}#sk-container-id-3 div.sk-toggleable__content pre {margin: 0.2em;color: black;border-radius: 0.25em;background-color: #f0f8ff;}#sk-container-id-3 input.sk-toggleable__control:checked~div.sk-toggleable__content {max-height: 200px;max-width: 100%;overflow: auto;}#sk-container-id-3 input.sk-toggleable__control:checked~label.sk-toggleable__label-arrow:before {content: \"▾\";}#sk-container-id-3 div.sk-estimator input.sk-toggleable__control:checked~label.sk-toggleable__label {background-color: #d4ebff;}#sk-container-id-3 div.sk-label input.sk-toggleable__control:checked~label.sk-toggleable__label {background-color: #d4ebff;}#sk-container-id-3 input.sk-hidden--visually {border: 0;clip: rect(1px 1px 1px 1px);clip: rect(1px, 1px, 1px, 1px);height: 1px;margin: -1px;overflow: hidden;padding: 0;position: absolute;width: 1px;}#sk-container-id-3 div.sk-estimator {font-family: monospace;background-color: #f0f8ff;border: 1px dotted black;border-radius: 0.25em;box-sizing: border-box;margin-bottom: 0.5em;}#sk-container-id-3 div.sk-estimator:hover {background-color: #d4ebff;}#sk-container-id-3 div.sk-parallel-item::after {content: \"\";width: 100%;border-bottom: 1px solid gray;flex-grow: 1;}#sk-container-id-3 div.sk-label:hover label.sk-toggleable__label {background-color: #d4ebff;}#sk-container-id-3 div.sk-serial::before {content: \"\";position: absolute;border-left: 1px solid gray;box-sizing: border-box;top: 0;bottom: 0;left: 50%;z-index: 0;}#sk-container-id-3 div.sk-serial {display: flex;flex-direction: column;align-items: center;background-color: white;padding-right: 0.2em;padding-left: 0.2em;position: relative;}#sk-container-id-3 div.sk-item {position: relative;z-index: 1;}#sk-container-id-3 div.sk-parallel {display: flex;align-items: stretch;justify-content: center;background-color: white;position: relative;}#sk-container-id-3 div.sk-item::before, #sk-container-id-3 div.sk-parallel-item::before {content: \"\";position: absolute;border-left: 1px solid gray;box-sizing: border-box;top: 0;bottom: 0;left: 50%;z-index: -1;}#sk-container-id-3 div.sk-parallel-item {display: flex;flex-direction: column;z-index: 1;position: relative;background-color: white;}#sk-container-id-3 div.sk-parallel-item:first-child::after {align-self: flex-end;width: 50%;}#sk-container-id-3 div.sk-parallel-item:last-child::after {align-self: flex-start;width: 50%;}#sk-container-id-3 div.sk-parallel-item:only-child::after {width: 0;}#sk-container-id-3 div.sk-dashed-wrapped {border: 1px dashed gray;margin: 0 0.4em 0.5em 0.4em;box-sizing: border-box;padding-bottom: 0.4em;background-color: white;}#sk-container-id-3 div.sk-label label {font-family: monospace;font-weight: bold;display: inline-block;line-height: 1.2em;}#sk-container-id-3 div.sk-label-container {text-align: center;}#sk-container-id-3 div.sk-container {/* jupyter's `normalize.less` sets `[hidden] { display: none; }` but bootstrap.min.css set `[hidden] { display: none !important; }` so we also need the `!important` here to be able to override the default hidden behavior on the sphinx rendered scikit-learn.org. See: https://github.com/scikit-learn/scikit-learn/issues/21755 */display: inline-block !important;position: relative;}#sk-container-id-3 div.sk-text-repr-fallback {display: none;}</style><div id=\"sk-container-id-3\" class=\"sk-top-container\"><div class=\"sk-text-repr-fallback\"><pre>Pipeline(steps=[(&#x27;preprocess&#x27;,\n",
       "                 Pipeline(steps=[(&#x27;lower&#x27;,\n",
       "                                  FunctionTransformer(func=&lt;function lowering_func at 0x2b44a49a0&gt;)),\n",
       "                                 (&#x27;tokenizer&#x27;,\n",
       "                                  FunctionTransformer(func=&lt;function tokenizer at 0x2b44a4b80&gt;,\n",
       "                                                      kw_args={&#x27;tokenizer&#x27;: &lt;function word_tokenize at 0x177043240&gt;})),\n",
       "                                 (&#x27;textnorm&#x27;,\n",
       "                                  FunctionTransformer(func=&lt;function text_normalizer at 0x2b44a4c20&gt;,\n",
       "                                                      kw_args={&#x27;stopword_list...\n",
       "                                                                                 &#x27;ours&#x27;,\n",
       "                                                                                 &#x27;ourselves&#x27;,\n",
       "                                                                                 &#x27;you&#x27;,\n",
       "                                                                                 &quot;you&#x27;re&quot;,\n",
       "                                                                                 &quot;you&#x27;ve&quot;,\n",
       "                                                                                 &quot;you&#x27;ll&quot;,\n",
       "                                                                                 &quot;you&#x27;d&quot;,\n",
       "                                                                                 &#x27;your&#x27;,\n",
       "                                                                                 &#x27;yours&#x27;,\n",
       "                                                                                 &#x27;yourself&#x27;,\n",
       "                                                                                 &#x27;yourselves&#x27;,\n",
       "                                                                                 &#x27;he&#x27;,\n",
       "                                                                                 &#x27;him&#x27;,\n",
       "                                                                                 &#x27;his&#x27;,\n",
       "                                                                                 &#x27;himself&#x27;,\n",
       "                                                                                 &#x27;she&#x27;,\n",
       "                                                                                 &quot;she&#x27;s&quot;,\n",
       "                                                                                 &#x27;her&#x27;,\n",
       "                                                                                 &#x27;hers&#x27;,\n",
       "                                                                                 &#x27;herself&#x27;,\n",
       "                                                                                 &#x27;it&#x27;,\n",
       "                                                                                 &quot;it&#x27;s&quot;,\n",
       "                                                                                 &#x27;its&#x27;,\n",
       "                                                                                 &#x27;itself&#x27;, ...]})),\n",
       "                                 (&#x27;join&#x27;,\n",
       "                                  FunctionTransformer(func=&lt;function rejoiner at 0x2b44a4cc0&gt;)),\n",
       "                                 (&#x27;vec&#x27;,\n",
       "                                  CountVectorizer(max_df=0.95, min_df=0.01))])),\n",
       "                (&#x27;model&#x27;, RandomForestClassifier())])</pre><b>In a Jupyter environment, please rerun this cell to show the HTML representation or trust the notebook. <br />On GitHub, the HTML representation is unable to render, please try loading this page with nbviewer.org.</b></div><div class=\"sk-container\" hidden><div class=\"sk-item sk-dashed-wrapped\"><div class=\"sk-label-container\"><div class=\"sk-label sk-toggleable\"><input class=\"sk-toggleable__control sk-hidden--visually\" id=\"sk-estimator-id-17\" type=\"checkbox\" ><label for=\"sk-estimator-id-17\" class=\"sk-toggleable__label sk-toggleable__label-arrow\">Pipeline</label><div class=\"sk-toggleable__content\"><pre>Pipeline(steps=[(&#x27;preprocess&#x27;,\n",
       "                 Pipeline(steps=[(&#x27;lower&#x27;,\n",
       "                                  FunctionTransformer(func=&lt;function lowering_func at 0x2b44a49a0&gt;)),\n",
       "                                 (&#x27;tokenizer&#x27;,\n",
       "                                  FunctionTransformer(func=&lt;function tokenizer at 0x2b44a4b80&gt;,\n",
       "                                                      kw_args={&#x27;tokenizer&#x27;: &lt;function word_tokenize at 0x177043240&gt;})),\n",
       "                                 (&#x27;textnorm&#x27;,\n",
       "                                  FunctionTransformer(func=&lt;function text_normalizer at 0x2b44a4c20&gt;,\n",
       "                                                      kw_args={&#x27;stopword_list...\n",
       "                                                                                 &#x27;ours&#x27;,\n",
       "                                                                                 &#x27;ourselves&#x27;,\n",
       "                                                                                 &#x27;you&#x27;,\n",
       "                                                                                 &quot;you&#x27;re&quot;,\n",
       "                                                                                 &quot;you&#x27;ve&quot;,\n",
       "                                                                                 &quot;you&#x27;ll&quot;,\n",
       "                                                                                 &quot;you&#x27;d&quot;,\n",
       "                                                                                 &#x27;your&#x27;,\n",
       "                                                                                 &#x27;yours&#x27;,\n",
       "                                                                                 &#x27;yourself&#x27;,\n",
       "                                                                                 &#x27;yourselves&#x27;,\n",
       "                                                                                 &#x27;he&#x27;,\n",
       "                                                                                 &#x27;him&#x27;,\n",
       "                                                                                 &#x27;his&#x27;,\n",
       "                                                                                 &#x27;himself&#x27;,\n",
       "                                                                                 &#x27;she&#x27;,\n",
       "                                                                                 &quot;she&#x27;s&quot;,\n",
       "                                                                                 &#x27;her&#x27;,\n",
       "                                                                                 &#x27;hers&#x27;,\n",
       "                                                                                 &#x27;herself&#x27;,\n",
       "                                                                                 &#x27;it&#x27;,\n",
       "                                                                                 &quot;it&#x27;s&quot;,\n",
       "                                                                                 &#x27;its&#x27;,\n",
       "                                                                                 &#x27;itself&#x27;, ...]})),\n",
       "                                 (&#x27;join&#x27;,\n",
       "                                  FunctionTransformer(func=&lt;function rejoiner at 0x2b44a4cc0&gt;)),\n",
       "                                 (&#x27;vec&#x27;,\n",
       "                                  CountVectorizer(max_df=0.95, min_df=0.01))])),\n",
       "                (&#x27;model&#x27;, RandomForestClassifier())])</pre></div></div></div><div class=\"sk-serial\"><div class=\"sk-item\"><div class=\"sk-label-container\"><div class=\"sk-label sk-toggleable\"><input class=\"sk-toggleable__control sk-hidden--visually\" id=\"sk-estimator-id-18\" type=\"checkbox\" ><label for=\"sk-estimator-id-18\" class=\"sk-toggleable__label sk-toggleable__label-arrow\">preprocess: Pipeline</label><div class=\"sk-toggleable__content\"><pre>Pipeline(steps=[(&#x27;lower&#x27;,\n",
       "                 FunctionTransformer(func=&lt;function lowering_func at 0x2b44a49a0&gt;)),\n",
       "                (&#x27;tokenizer&#x27;,\n",
       "                 FunctionTransformer(func=&lt;function tokenizer at 0x2b44a4b80&gt;,\n",
       "                                     kw_args={&#x27;tokenizer&#x27;: &lt;function word_tokenize at 0x177043240&gt;})),\n",
       "                (&#x27;textnorm&#x27;,\n",
       "                 FunctionTransformer(func=&lt;function text_normalizer at 0x2b44a4c20&gt;,\n",
       "                                     kw_args={&#x27;stopword_list&#x27;: [&#x27;i&#x27;, &#x27;me&#x27;, &#x27;my&#x27;,\n",
       "                                                                &#x27;myself&#x27;, &#x27;we&#x27;,\n",
       "                                                                &#x27;our&#x27;, &#x27;ours&#x27;,\n",
       "                                                                &#x27;ourselves&#x27;,\n",
       "                                                                &#x27;you&#x27;, &quot;you&#x27;re&quot;,\n",
       "                                                                &quot;you&#x27;ve&quot;,\n",
       "                                                                &quot;you&#x27;ll&quot;,\n",
       "                                                                &quot;you&#x27;d&quot;, &#x27;your&#x27;,\n",
       "                                                                &#x27;yours&#x27;,\n",
       "                                                                &#x27;yourself&#x27;,\n",
       "                                                                &#x27;yourselves&#x27;,\n",
       "                                                                &#x27;he&#x27;, &#x27;him&#x27;,\n",
       "                                                                &#x27;his&#x27;,\n",
       "                                                                &#x27;himself&#x27;,\n",
       "                                                                &#x27;she&#x27;, &quot;she&#x27;s&quot;,\n",
       "                                                                &#x27;her&#x27;, &#x27;hers&#x27;,\n",
       "                                                                &#x27;herself&#x27;, &#x27;it&#x27;,\n",
       "                                                                &quot;it&#x27;s&quot;, &#x27;its&#x27;,\n",
       "                                                                &#x27;itself&#x27;, ...]})),\n",
       "                (&#x27;join&#x27;,\n",
       "                 FunctionTransformer(func=&lt;function rejoiner at 0x2b44a4cc0&gt;)),\n",
       "                (&#x27;vec&#x27;, CountVectorizer(max_df=0.95, min_df=0.01))])</pre></div></div></div><div class=\"sk-serial\"><div class=\"sk-item\"><div class=\"sk-estimator sk-toggleable\"><input class=\"sk-toggleable__control sk-hidden--visually\" id=\"sk-estimator-id-19\" type=\"checkbox\" ><label for=\"sk-estimator-id-19\" class=\"sk-toggleable__label sk-toggleable__label-arrow\">FunctionTransformer</label><div class=\"sk-toggleable__content\"><pre>FunctionTransformer(func=&lt;function lowering_func at 0x2b44a49a0&gt;)</pre></div></div></div><div class=\"sk-item\"><div class=\"sk-estimator sk-toggleable\"><input class=\"sk-toggleable__control sk-hidden--visually\" id=\"sk-estimator-id-20\" type=\"checkbox\" ><label for=\"sk-estimator-id-20\" class=\"sk-toggleable__label sk-toggleable__label-arrow\">FunctionTransformer</label><div class=\"sk-toggleable__content\"><pre>FunctionTransformer(func=&lt;function tokenizer at 0x2b44a4b80&gt;,\n",
       "                    kw_args={&#x27;tokenizer&#x27;: &lt;function word_tokenize at 0x177043240&gt;})</pre></div></div></div><div class=\"sk-item\"><div class=\"sk-estimator sk-toggleable\"><input class=\"sk-toggleable__control sk-hidden--visually\" id=\"sk-estimator-id-21\" type=\"checkbox\" ><label for=\"sk-estimator-id-21\" class=\"sk-toggleable__label sk-toggleable__label-arrow\">FunctionTransformer</label><div class=\"sk-toggleable__content\"><pre>FunctionTransformer(func=&lt;function text_normalizer at 0x2b44a4c20&gt;,\n",
       "                    kw_args={&#x27;stopword_list&#x27;: [&#x27;i&#x27;, &#x27;me&#x27;, &#x27;my&#x27;, &#x27;myself&#x27;, &#x27;we&#x27;,\n",
       "                                               &#x27;our&#x27;, &#x27;ours&#x27;, &#x27;ourselves&#x27;,\n",
       "                                               &#x27;you&#x27;, &quot;you&#x27;re&quot;, &quot;you&#x27;ve&quot;,\n",
       "                                               &quot;you&#x27;ll&quot;, &quot;you&#x27;d&quot;, &#x27;your&#x27;,\n",
       "                                               &#x27;yours&#x27;, &#x27;yourself&#x27;,\n",
       "                                               &#x27;yourselves&#x27;, &#x27;he&#x27;, &#x27;him&#x27;, &#x27;his&#x27;,\n",
       "                                               &#x27;himself&#x27;, &#x27;she&#x27;, &quot;she&#x27;s&quot;, &#x27;her&#x27;,\n",
       "                                               &#x27;hers&#x27;, &#x27;herself&#x27;, &#x27;it&#x27;, &quot;it&#x27;s&quot;,\n",
       "                                               &#x27;its&#x27;, &#x27;itself&#x27;, ...]})</pre></div></div></div><div class=\"sk-item\"><div class=\"sk-estimator sk-toggleable\"><input class=\"sk-toggleable__control sk-hidden--visually\" id=\"sk-estimator-id-22\" type=\"checkbox\" ><label for=\"sk-estimator-id-22\" class=\"sk-toggleable__label sk-toggleable__label-arrow\">FunctionTransformer</label><div class=\"sk-toggleable__content\"><pre>FunctionTransformer(func=&lt;function rejoiner at 0x2b44a4cc0&gt;)</pre></div></div></div><div class=\"sk-item\"><div class=\"sk-estimator sk-toggleable\"><input class=\"sk-toggleable__control sk-hidden--visually\" id=\"sk-estimator-id-23\" type=\"checkbox\" ><label for=\"sk-estimator-id-23\" class=\"sk-toggleable__label sk-toggleable__label-arrow\">CountVectorizer</label><div class=\"sk-toggleable__content\"><pre>CountVectorizer(max_df=0.95, min_df=0.01)</pre></div></div></div></div></div><div class=\"sk-item\"><div class=\"sk-estimator sk-toggleable\"><input class=\"sk-toggleable__control sk-hidden--visually\" id=\"sk-estimator-id-24\" type=\"checkbox\" ><label for=\"sk-estimator-id-24\" class=\"sk-toggleable__label sk-toggleable__label-arrow\">RandomForestClassifier</label><div class=\"sk-toggleable__content\"><pre>RandomForestClassifier()</pre></div></div></div></div></div></div></div>"
      ],
      "text/plain": [
       "Pipeline(steps=[('preprocess',\n",
       "                 Pipeline(steps=[('lower',\n",
       "                                  FunctionTransformer(func=<function lowering_func at 0x2b44a49a0>)),\n",
       "                                 ('tokenizer',\n",
       "                                  FunctionTransformer(func=<function tokenizer at 0x2b44a4b80>,\n",
       "                                                      kw_args={'tokenizer': <function word_tokenize at 0x177043240>})),\n",
       "                                 ('textnorm',\n",
       "                                  FunctionTransformer(func=<function text_normalizer at 0x2b44a4c20>,\n",
       "                                                      kw_args={'stopword_list...\n",
       "                                                                                 'ours',\n",
       "                                                                                 'ourselves',\n",
       "                                                                                 'you',\n",
       "                                                                                 \"you're\",\n",
       "                                                                                 \"you've\",\n",
       "                                                                                 \"you'll\",\n",
       "                                                                                 \"you'd\",\n",
       "                                                                                 'your',\n",
       "                                                                                 'yours',\n",
       "                                                                                 'yourself',\n",
       "                                                                                 'yourselves',\n",
       "                                                                                 'he',\n",
       "                                                                                 'him',\n",
       "                                                                                 'his',\n",
       "                                                                                 'himself',\n",
       "                                                                                 'she',\n",
       "                                                                                 \"she's\",\n",
       "                                                                                 'her',\n",
       "                                                                                 'hers',\n",
       "                                                                                 'herself',\n",
       "                                                                                 'it',\n",
       "                                                                                 \"it's\",\n",
       "                                                                                 'its',\n",
       "                                                                                 'itself', ...]})),\n",
       "                                 ('join',\n",
       "                                  FunctionTransformer(func=<function rejoiner at 0x2b44a4cc0>)),\n",
       "                                 ('vec',\n",
       "                                  CountVectorizer(max_df=0.95, min_df=0.01))])),\n",
       "                ('model', RandomForestClassifier())])"
      ]
     },
     "execution_count": 53,
     "metadata": {},
     "output_type": "execute_result"
    }
   ],
   "source": [
    "modeling_pipe.fit(X_train, y_train)"
   ]
  },
  {
   "cell_type": "markdown",
   "metadata": {},
   "source": [
    "After model training, evaluate model on test data:\n",
    "- get class predictions given test text inputs\n",
    "- in practice, there is model tuning/validation (we won't cover this here)"
   ]
  },
  {
   "cell_type": "code",
   "execution_count": 54,
   "metadata": {},
   "outputs": [],
   "source": [
    "y_pred = modeling_pipe.predict(X_test)"
   ]
  },
  {
   "cell_type": "markdown",
   "metadata": {},
   "source": [
    "#### Model Evaluation\n",
    "- Did our pipeline (data transformation + classifier) do a good job on the test set?"
   ]
  },
  {
   "cell_type": "code",
   "execution_count": 55,
   "metadata": {},
   "outputs": [
    {
     "data": {
      "image/png": "[encoded data removed]",
      "text/plain": [
       "<Figure size 640x480 with 2 Axes>"
      ]
     },
     "metadata": {},
     "output_type": "display_data"
    }
   ],
   "source": [
    "cfmat = confusion_matrix(y_test, y_pred)\n",
    "\n",
    "ax = ConfusionMatrixDisplay(cfmat, display_labels = y.unique()).plot()"
   ]
  },
  {
   "cell_type": "code",
   "execution_count": 56,
   "metadata": {},
   "outputs": [
    {
     "name": "stdout",
     "output_type": "stream",
     "text": [
      "              precision    recall  f1-score   support\n",
      "\n",
      "         ham       0.98      0.99      0.98      1450\n",
      "        spam       0.92      0.86      0.89       222\n",
      "\n",
      "    accuracy                           0.97      1672\n",
      "   macro avg       0.95      0.92      0.94      1672\n",
      "weighted avg       0.97      0.97      0.97      1672\n",
      "\n"
     ]
    }
   ],
   "source": [
    "print(classification_report(y_test, y_pred))"
   ]
  },
  {
   "cell_type": "markdown",
   "metadata": {},
   "source": [
    "This model is doing pretty well. \n",
    "- Save trained model for deployment."
   ]
  },
  {
   "cell_type": "code",
   "execution_count": 57,
   "metadata": {},
   "outputs": [],
   "source": [
    "pickle.dump(modeling_pipe, open('../saved_models/full_pipeline.pkl', 'wb'))"
   ]
  },
  {
   "cell_type": "markdown",
   "metadata": {},
   "source": [
    "Next steps:\n",
    "- Get out of the Jupyter notebook\n",
    "- Create python module for importing necessary functions "
   ]
  }
 ],
 "metadata": {
  "kernelspec": {
   "display_name": "Python 3",
   "language": "python",
   "name": "python3"
  },
  "language_info": {
   "codemirror_mode": {
    "name": "ipython",
    "version": 3
   },
   "file_extension": ".py",
   "mimetype": "text/x-python",
   "name": "python",
   "nbconvert_exporter": "python",
   "pygments_lexer": "ipython3",
   "version": "3.8.5"
  }
 },
 "nbformat": 4,
 "nbformat_minor": 4
}
